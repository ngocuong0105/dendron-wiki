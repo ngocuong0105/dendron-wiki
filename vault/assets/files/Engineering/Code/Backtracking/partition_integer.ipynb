{
 "cells": [
  {
   "cell_type": "markdown",
   "source": [
    "## Problem Statement: <br>\n",
    "Given a non-negative integer n, return a list of all partitions of integer n into a sum of positive integers.<br>\n",
    "Example:<br>\n",
    "Input n = 5<br>\n",
    "Output [1,1,1,1,1],[1,1,1,2],[1,1,3],[1,2,2],[2,3],[1,4],[5] "
   ],
   "metadata": {}
  },
  {
   "cell_type": "markdown",
   "source": [
    "## Solution:\n"
   ],
   "metadata": {}
  },
  {
   "cell_type": "code",
   "execution_count": 6,
   "source": [
    "def partition(n):\n",
    "    def backtrack(curr,path):\n",
    "        if curr==n:\n",
    "            res.append(path)\n",
    "            return\n",
    "        last = 1 if path==[] else path[-1] \n",
    "        for num in range(last,n+1):\n",
    "            if curr+num<=n:\n",
    "                backtrack(curr+num,path+[num])\n",
    "    res=[]\n",
    "    backtrack(0,[])\n",
    "    return len(res)"
   ],
   "outputs": [],
   "metadata": {}
  }
 ],
 "metadata": {
  "orig_nbformat": 4,
  "language_info": {
   "name": "python",
   "version": "3.9.1",
   "mimetype": "text/x-python",
   "codemirror_mode": {
    "name": "ipython",
    "version": 3
   },
   "pygments_lexer": "ipython3",
   "nbconvert_exporter": "python",
   "file_extension": ".py"
  },
  "kernelspec": {
   "name": "python3",
   "display_name": "Python 3.9.1 64-bit ('pythonLearning': conda)"
  },
  "interpreter": {
   "hash": "e96b4aac093d4b38c6a240e47817d9a21ba83af01eac62e91932d7c54b6d7f07"
  }
 },
 "nbformat": 4,
 "nbformat_minor": 2
}