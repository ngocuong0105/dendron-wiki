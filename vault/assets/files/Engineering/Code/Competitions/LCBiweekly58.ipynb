{
 "cells": [
  {
   "cell_type": "markdown",
   "source": [
    "# Biweekly Contest 58\n",
    "This contest was harder and I could only solve the first two problems. Got stuck in the third question which was a 2D DP but the subproblem space was not trivial to come up with. Though I was fast and did them in under 20 minutes and still ended in the top 5%.\n",
    "\n",
    "### Questions:\n",
    "1. [Delete Characters to Make Fancy String](https://leetcode.com/contest/biweekly-contest-58/problems/delete-characters-to-make-fancy-string/)\n",
    "\n",
    "2. [Check if Move is Legal](https://leetcode.com/contest/biweekly-contest-58/problems/check-if-move-is-legal/)\n",
    "\n",
    "3. [Minimum Total Space Wasted With K Resizing Operations](https://leetcode.com/contest/biweekly-contest-58/problems/minimum-total-space-wasted-with-k-resizing-operations/)\n",
    "\n",
    "4. [Maximum Product of the Length of Two Palindromic Substrings](https://leetcode.com/contest/biweekly-contest-58/problems/maximum-product-of-the-length-of-two-palindromic-substrings/)"
   ],
   "metadata": {}
  },
  {
   "cell_type": "markdown",
   "source": [
    "## Question 1 - Careful looping is your friend\n",
    "Straightforward loop solution, nothing special. Need some small care to have linear complexity."
   ],
   "metadata": {}
  },
  {
   "cell_type": "code", 
   "execution_count": null,
   "source": [
    "class Solution:\n",
    "    def makeFancyString(self, s: str) -> str:\n",
    "        res=[]\n",
    "        i=0\n",
    "        while i<len(s):\n",
    "            c=1\n",
    "            while i<len(s)-1 and s[i]==s[i+1]:\n",
    "                i+=1\n",
    "                c+=1\n",
    "            i+=1\n",
    "            if c>=3:\n",
    "                res+=2*[s[i-1]]\n",
    "            else:\n",
    "                res+=c*s[i-1]\n",
    "        return \"\".join(res)"
   ],
   "outputs": [],
   "metadata": {}
  },
  {
   "cell_type": "markdown",
   "source": [
    "## Question 2 - Simultanious directions when 'traversing' matrix!\n",
    "This question is easy to understand and solve conceptually. However, if you do not implement the right way it will be long. Initially during the contest I wrote separate piece of code to check each direction. It worked, but it took some time and it was easy to make mistake. However after the contest, I found this neat implementation going in all directions at once!"
   ],
   "metadata": {}
  },
  {
   "cell_type": "code",
   "execution_count": null,
   "source": [
    "class Solution:\n",
    "    def checkMove(self, board: list[list[str]], r: int, c: int, color: str) -> bool:\n",
    "        for dr, dc in (0, 1), (0, -1), (1, 0), (-1, 0), (1, 1), (-1, -1), (1, -1), (-1, 1):\n",
    "            i, j = r + dr, c + dc\n",
    "            size = 2\n",
    "            while 8 > i >= 0 <= j < 8:\n",
    "                if board[i][j] == color and size>2:\n",
    "                    return True    \n",
    "                if board[i][j] == '.'or size < 3 and board[i][j] == color:\n",
    "                    break \n",
    "                i += dr\n",
    "                j += dc\n",
    "                size += 1\n",
    "        return False"
   ],
   "outputs": [],
   "metadata": {}
  },
  {
   "cell_type": "markdown",
   "source": [
    "## Question 3 - DP shall enslave you\n",
    "This one was tough. Couldn't do it during competition as were pursuing too long for greedy strategy. Thought a bit about DP, but could not come up with the correct subproblem space. As usual this is the hardest step in DP.<br>\n",
    "General advice when memoizing in top down DP: can use lru_cache module for quick implementation during competition but set max size to None, so that you do not limt the cache size and store the whole DP table. <br>\n",
    "Alternatively can use dictionary or list to memoize, but note that dictionary has large overhead.\n"
   ],
   "metadata": {}
  },
  {
   "cell_type": "code",
   "execution_count": null,
   "source": [
    "from functools import lru_cache\n",
    "class Solution:\n",
    "    def minSpaceWastedKResizing(self, nums: list[int], k: int) -> int:\n",
    "        @lru_cache(None)\n",
    "        def dp(i,k):\n",
    "            if i==len(nums): return 0\n",
    "            if k==-1: return float('inf')\n",
    "            val=float('inf')\n",
    "            mmax=nums[i]\n",
    "            totalSum=0\n",
    "            for j in range(i,len(nums)):\n",
    "                mmax=max(nums[j],mmax)\n",
    "                totalSum+=nums[j]\n",
    "                val=min(val,mmax*(j-i+1)-totalSum+dp(j+1,k-1))\n",
    "            return val\n",
    "        return dp(0,k)"
   ],
   "outputs": [],
   "metadata": {}
  },
  {
   "cell_type": "markdown",
   "source": [
    "## Question 4 \n"
   ],
   "metadata": {}
  },
  {
   "cell_type": "code",
   "execution_count": null,
   "source": [
    "\n"
   ],
   "outputs": [],
   "metadata": {}
  }
 ],
 "metadata": {
  "orig_nbformat": 4,
  "language_info": {
   "name": "python"
  }
 },
 "nbformat": 4,
 "nbformat_minor": 2
}
