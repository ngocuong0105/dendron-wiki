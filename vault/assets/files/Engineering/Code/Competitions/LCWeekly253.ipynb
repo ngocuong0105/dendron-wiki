{
 "cells": [
  {
   "cell_type": "markdown",
   "source": [
    "# Weekly Contest 253\n",
    "This was my eighth leetcode competition and is the first time I managed to solve all 4 problems - 1 easy, 2 mediums, 1 hard in 90 minutes! In terms of difficulty, I believe the questions were not easier than those given in other weeks, but they were more popular and used techniques which were more or less well known for most people. I think this is the reason why overall all competitors performed better.\n",
    "\n",
    "### Questions:\n",
    "1. [Check If String Is a Prefix of Array](https://leetcode.com/contest/weekly-contest-253/problems/check-if-string-is-a-prefix-of-array/)\n",
    "\n",
    "2. [Remove Stones to Minimize the Total](https://leetcode.com/contest/weekly-contest-253/problems/remove-stones-to-minimize-the-total/)\n",
    "\n",
    "3. [Minimum Number of Swaps to Make the String Balanced](https://leetcode.com/contest/weekly-contest-253/problems/minimum-number-of-swaps-to-make-the-string-balanced/)\n",
    "\n",
    "4. [Find the Longest Valid Obstacle Course at Each Position](https://leetcode.com/contest/weekly-contest-253/problems/find-the-longest-valid-obstacle-course-at-each-position/)"
   ],
   "metadata": {}
  },
  {
   "cell_type": "markdown",
   "source": [ 
    "## Question 1 - Don't know what to do? Just Brute Force it!\n",
    "Need to read question statement carefully, otherwise easy question with straightforward implementation."
   ],
   "metadata": {}
  },
  {
   "cell_type": "code",
   "execution_count": null,
   "source": [
    "# Brute Force is accepted.\n",
    "def isPrefixString(s: str, words: list[str]) -> bool:\n",
    "    curr=''\n",
    "    for word in words:\n",
    "        curr+=word\n",
    "        if s==curr:\n",
    "            return True\n",
    "        if len(curr)>len(s):\n",
    "            return False\n",
    "    return False"
   ],
   "outputs": [],
   "metadata": {}
  },
  {
   "cell_type": "markdown",
   "source": [
    "## Question 2 - Max heap in disguise\n",
    "Direct implementation of max heap data structure. Python's module heapq supports only min heap, thus we need to multiply by -1 to simulate max heap from a min heap."
   ],
   "metadata": {}
  },
  {
   "cell_type": "code",
   "execution_count": null,
   "source": [
    "import heapq\n",
    "def minStoneSum(piles: list[int], k: int) -> int:\n",
    "    h=[-s for s in piles]\n",
    "    heapq.heapify(h)\n",
    "    for _ in range(k):\n",
    "        stones=-heapq.heappop(h)\n",
    "        stones=stones-stones//2\n",
    "        heapq.heappush(h,-stones)\n",
    "    return -sum(h)"
   ],
   "outputs": [],
   "metadata": {}
  },
  {
   "cell_type": "markdown",
   "source": [
    "## Question 3 - Parenthesis scare no more\n",
    "Classical parenthesis question. Cool trick to go from both left and right sides to get linear complexity."
   ],
   "metadata": {}
  },
  {
   "cell_type": "code",
   "execution_count": null,
   "source": [
    "class Solution:\n",
    "    def minSwaps(self, s: str) -> int:\n",
    "        opened,closed=0,0\n",
    "        left=0\n",
    "        for char in s:\n",
    "            if char==']':\n",
    "                closed+=1\n",
    "            else:\n",
    "                opened+=1\n",
    "            if closed>opened:\n",
    "                closed-=opened\n",
    "                opened-=opened\n",
    "                left=max(left,(closed+1)//2)\n",
    "        \n",
    "        opened,closed=0,0\n",
    "        right=0\n",
    "        for char in s[::-1]:\n",
    "            if char=='[':\n",
    "                closed+=1\n",
    "            else:\n",
    "                opened+=1\n",
    "            if closed>opened:\n",
    "                closed-=opened\n",
    "                opened-=opened\n",
    "                right=max(right,(closed+1)//2)\n",
    "        return max(left,right)\n",
    "        "
   ],
   "outputs": [],
   "metadata": {}
  },
  {
   "cell_type": "markdown",
   "source": [
    "## Question 4 - Binary Search at its finest\n",
    "Slight variation of patience sort and the classic Longest Increasing Sequence problem.\n",
    "See [this](https://www.cs.princeton.edu/courses/archive/spring13/cos423/lectures/LongestIncreasingSubsequence-2x2.pdf) for more details.\n",
    "\n"
   ],
   "metadata": {}
  },
  {
   "cell_type": "code",
   "execution_count": null,
   "source": [
    "class Solution:\n",
    "    def longestObstacleCourseAtEachPosition(self, obstacles: list[int]) -> list[int]:\n",
    "        tops=[]\n",
    "        res=[]\n",
    "        for obs in obstacles:\n",
    "            if tops==[]:\n",
    "                tops.append(obs)\n",
    "                res.append(len(tops))\n",
    "            else:\n",
    "                idx=self.bs(tops,obs)\n",
    "                if idx<len(tops):\n",
    "                    tops[idx]=obs\n",
    "                else:\n",
    "                    tops.append(obs)\n",
    "                res.append(idx+1)\n",
    "        return res\n",
    "    \n",
    "    def bs(self,tops,num):\n",
    "        l,r=0,len(tops)-1\n",
    "        m=(l+r)//2\n",
    "        if tops[-1]<=num:\n",
    "            return len(tops)\n",
    "        while l<=r:\n",
    "            if tops[m]<=num:\n",
    "                if m<len(tops) and tops[m+1]<=num:\n",
    "                    l=m+1\n",
    "                    m=(l+r)//2\n",
    "                else:\n",
    "                    return m+1\n",
    "            elif tops[m]>num:\n",
    "                r=m-1\n",
    "                m=(l+r)//2\n",
    "        return m+1\n"
   ],
   "outputs": [],
   "metadata": {}
  }
 ],
 "metadata": {
  "orig_nbformat": 4,
  "language_info": {
   "name": "python"
  }
 },
 "nbformat": 4,
 "nbformat_minor": 2
}
